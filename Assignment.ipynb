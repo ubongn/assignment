{
 "cells": [
  {
   "cell_type": "markdown",
   "id": "a2da12a8-635c-411f-a3a3-07af2d52217b",
   "metadata": {},
   "source": [
    "# My Jupyter Notebook on IBM Watson Studio"
   ]
  },
  {
   "cell_type": "markdown",
   "id": "17ee077d-117d-49c3-b2b0-c809789f4229",
   "metadata": {},
   "source": [
    "**Ubong Ntekim**\n",
    "\n",
    "Data Scientist"
   ]
  },
  {
   "cell_type": "markdown",
   "id": "7d8cfe73-4a74-4824-8f19-e132f2a26c5c",
   "metadata": {},
   "source": [
    "_I am interested in Data Science because I would love to contribute towards the Economy in the future_"
   ]
  },
  {
   "cell_type": "markdown",
   "id": "d81d3b3c-a5b6-4855-b881-a59adf2808b9",
   "metadata": {},
   "source": [
    "### In cell 5 it will Print a string \"Hello, This is my assignment.\""
   ]
  },
  {
   "cell_type": "code",
   "execution_count": 1,
   "id": "ce1ea233-4a59-4420-8e8d-4a1e19a06db8",
   "metadata": {},
   "outputs": [
    {
     "name": "stdout",
     "output_type": "stream",
     "text": [
      "Hello, This is my assignment.\n"
     ]
    }
   ],
   "source": [
    "print(\"Hello, This is my assignment.\")"
   ]
  },
  {
   "cell_type": "code",
   "execution_count": null,
   "id": "3abd1e36-8597-49e7-b68a-d32887e38e10",
   "metadata": {},
   "outputs": [],
   "source": [
    "> Hi, I am Ubong\n",
    "* My Portfolio : <https:///>\n",
    "* Email : <Navassherif189@gmail.com>"
   ]
  }
 ],
 "metadata": {
  "kernelspec": {
   "display_name": "Python",
   "language": "python",
   "name": "conda-env-python-py"
  },
  "language_info": {
   "codemirror_mode": {
    "name": "ipython",
    "version": 3
   },
   "file_extension": ".py",
   "mimetype": "text/x-python",
   "name": "python",
   "nbconvert_exporter": "python",
   "pygments_lexer": "ipython3",
   "version": "3.7.12"
  }
 },
 "nbformat": 4,
 "nbformat_minor": 5
}
